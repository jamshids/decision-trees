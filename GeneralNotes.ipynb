{
 "cells": [
  {
   "cell_type": "code",
   "execution_count": 1,
   "metadata": {
    "collapsed": true
   },
   "outputs": [],
   "source": [
    "import numpy as np\n",
    "from scipy.stats import norm\n",
    "import matplotlib.pyplot as plt\n",
    "import pdb\n",
    "import copy\n",
    "\n",
    "%matplotlib inline\n",
    "\n",
    "import tree_structure\n",
    "import fitting_tools\n",
    "import objective_builders"
   ]
  },
  {
   "cell_type": "markdown",
   "metadata": {},
   "source": [
    "# Examining Single-Feature Splitting"
   ]
  },
  {
   "cell_type": "code",
   "execution_count": 778,
   "metadata": {},
   "outputs": [
    {
     "data": {
      "image/png": "[encoded data removed]",
      "text/plain": [
       "<matplotlib.figure.Figure at 0x7f6523359a10>"
      ]
     },
     "metadata": {},
     "output_type": "display_data"
    }
   ],
   "source": [
    "# generate two-gaussian data samples\n",
    "# class one\n",
    "n1 = 50\n",
    "n2 = 50\n",
    "n3 = 50\n",
    "X1 = 1.1*np.random.randn(n1)\n",
    "X2 = np.random.randn(n2) + 3\n",
    "X3 = np.random.randn(n2) + 6\n",
    "\n",
    "plt.scatter(X1, np.zeros(n1), marker='o', color='b', s=50)\n",
    "plt.scatter(X2, np.zeros(n2), marker='x', color='r', s=50)\n",
    "plt.scatter(X3, np.zeros(n3), marker='x', color='b', s=50)\n",
    "\n",
    "X = np.concatenate((X1,X3,X2))\n",
    "labels = np.ones(len(X))\n",
    "labels[len(X1)+len(X3):] = 2"
   ]
  },
  {
   "cell_type": "markdown",
   "metadata": {},
   "source": [
    "## Splitting with C4.5"
   ]
  },
  {
   "cell_type": "code",
   "execution_count": 260,
   "metadata": {
    "collapsed": true
   },
   "outputs": [],
   "source": [
    "# going through the mid-points one-by-one\n",
    "\n",
    "# number of classes\n",
    "c = len(np.unique(labels))\n",
    "\n",
    "# sorting the data\n",
    "inds = np.argsort(X)\n",
    "scores = np.zeros(n1+n2-1)\n",
    "thetas = np.zeros(n1+n2-1)\n",
    "eps = 1e-6\n",
    "for i in range(n1+n2-1):\n",
    "    thetas[i] = (X[inds[i]] + X[inds[i+1]]) / 2.\n",
    "    prop = np.zeros((2,c))\n",
    "    \n",
    "    # proportions of the classes\n",
    "    for j in range(c):\n",
    "        # left side\n",
    "        prop[0,j] = np.sum(labels[X <= thetas[i]]==j+1) / float(i+1)\n",
    "        # right side\n",
    "        prop[1,j] = np.sum(labels[X > thetas[i]]==j+1) / float(n1+n2-(i+1))\n",
    "        \n",
    "    # entropy\n",
    "    entropies = -np.sum((prop+eps) * np.log(prop+eps), axis=1)\n",
    "    scores[i] = ((i+1)*entropies[0] + (n1+n2-i-1)*entropies[1]) / (n1+n2)"
   ]
  },
  {
   "cell_type": "code",
   "execution_count": 292,
   "metadata": {
    "scrolled": true
   },
   "outputs": [
    {
     "data": {
      "text/plain": [
       "<matplotlib.lines.Line2D at 0x7f98d9ebd990>"
      ]
     },
     "execution_count": 292,
     "metadata": {},
     "output_type": "execute_result"
    },
    {
     "data": {
      "image/png": "[encoded data removed]",
      "text/plain": [
       "<matplotlib.figure.Figure at 0x7f98d9f31a10>"
      ]
     },
     "metadata": {},
     "output_type": "display_data"
    }
   ],
   "source": [
    "# the result:\n",
    "best_theta = thetas[np.argmin(scores)]\n",
    "\n",
    "plt.scatter(X1, np.zeros(n1), marker='o', s=50)\n",
    "plt.scatter(X2, np.zeros(n2), marker='x', color='r', s=50)\n",
    "\n",
    "plt.step(X[inds], np.append(scores[0],scores))\n",
    "plt.axvline(best_theta, linewidth=2, color='gray', linestyle = '--')"
   ]
  },
  {
   "cell_type": "markdown",
   "metadata": {},
   "source": [
    "## Splitting with Densities"
   ]
  },
  {
   "cell_type": "markdown",
   "metadata": {},
   "source": [
    "First, let's do a density estimation for each class. Here, we do kernel density estimation (KDE):\n",
    "$$p(x|y=j) = \\frac{1}{n_j}\\sum_{y_i=j} k_G(x,x_i)=\\frac{1}{n_j\\sqrt{2\\pi}\\sigma}\\sum_{y_i=j}e^{-(x-x_i)^2/2\\sigma} $$"
   ]
  },
  {
   "cell_type": "code",
   "execution_count": 167,
   "metadata": {
    "collapsed": true
   },
   "outputs": [],
   "source": [
    "sigma = .5\n",
    "\n",
    "# defining KDE function with Gaussian kernel\n",
    "def class_kernel_1D(dat, x, sigma):\n",
    "    density_val = 0\n",
    "    n = dat.shape\n",
    "    for i in range(len(dat)):\n",
    "        density_val += np.exp(-(dat[i]-x)**2/(2*sigma)) / (sigma*np.sqrt(2*np.pi))\n",
    "    return density_val\n",
    "\n",
    "kernel_c1 = lambda x: class_kernel_1D(X[labels==1], x, sigma)\n",
    "kernel_c2 = lambda x: class_kernel_1D(X[labels==2], x, sigma)\n"
   ]
  },
  {
   "cell_type": "code",
   "execution_count": 171,
   "metadata": {},
   "outputs": [
    {
     "data": {
      "text/plain": [
       "<matplotlib.lines.Line2D at 0x7f98e32229d0>"
      ]
     },
     "execution_count": 171,
     "metadata": {},
     "output_type": "execute_result"
    },
    {
     "data": {
      "image/png": "[encoded data removed]",
      "text/plain": [
       "<matplotlib.figure.Figure at 0x7f98e327df90>"
      ]
     },
     "metadata": {},
     "output_type": "display_data"
    }
   ],
   "source": [
    "plt.scatter(X1, np.zeros(n1), marker='o', s=50)\n",
    "plt.scatter(X2, np.zeros(n2), marker='x', color='r', s=50)\n",
    "\n",
    "eval_points = np.arange(-3,4.5,.1)\n",
    "plt.plot(eval_points, kernel_c1(eval_points))\n",
    "plt.plot(eval_points, kernel_c2(eval_points), color='r')\n",
    "\n",
    "plt.axvline(best_theta, linewidth=2, color='gray', linestyle = '--')"
   ]
  },
  {
   "cell_type": "markdown",
   "metadata": {},
   "source": [
    "Now, let's form the density-based objective:\n",
    "$$ -\\sum_{j=1}^2 \\mathbb{P}(y=j|x\\leq \\theta) \\log\\mathbb{P}(y=j|x\\leq \\theta)$$\n",
    "\n",
    "where from Bayes rule\n",
    "$$ \\mathbb{P}(y=j|x\\leq \\theta) = \\frac{\\mathbb{P}(x\\leq\\theta|y=j)\\cdot\\mathbb{P}(y=j)}{\\mathbb{P}(x\\leq\\theta)}.$$\n",
    "\n",
    "After some simplifications, we get the following objective:\n",
    "$$ J(\\theta) = -\\mathbb{E}_y[KL(q(\\theta, y), q'(\\theta)],$$\n",
    "where \"KL\" is the KL-divergence measure, $q_1$ and $q_2$ are two two-element PMFs whose mass probabilities depend on $\\theta$:\n",
    "$$q(\\theta,y) = [\\mathbb{P}(x\\leq\\theta|y), \\mathbb{P}(x>\\theta|y)]$$\n",
    "$$q'(\\theta) = [\\mathbb{P}(x\\leq\\theta), \\mathbb{P}(x>\\theta)]$$\n",
    "\n",
    "The objective $J(\\theta)$ can also be written as\n",
    "$$ J(\\theta) = \\sum_{y=1}^c\\pi_j\\left[q_1(\\theta,j)\\log\\frac{q'_1(\\theta)}{q_1(\\theta,j)} + q_2(\\theta,j)\\log\\frac{q'_2(\\theta)}{q_2(\\theta,j)} \\right]$$\n",
    "where, assuming that we are using Gaussian kernels, we get the following for the CDFs:\n",
    "$$\\pi_j = \\frac{n_j}{n},$$\n",
    "$$ q_1(\\theta,y=j) = \\mathbb{P}(x\\leq\\theta|y=j)=\\int_{-\\infty}^\\theta p(x|y=j)dx = \\frac{1}{n_j}\\sum_{y_i=j}\\Phi\\left(\\frac{\\theta-x_i}{\\sigma}\\right).$$\n",
    "and\n",
    "$$ q'_1(\\theta) = \\mathbb{P}(x\\leq\\theta)=\\int_{-\\infty}^\\theta p(x)dx = \\frac{1}{n}\\sum_{i=1}^n\\Phi\\left(\\frac{\\theta-x_i}{\\sigma}\\right).$$"
   ]
  },
  {
   "cell_type": "code",
   "execution_count": 247,
   "metadata": {
    "collapsed": true
   },
   "outputs": [],
   "source": [
    "# first computing all the variables present in the equations above\n",
    "\n",
    "# we can generate q_1 and q'_1 values using the following function\n",
    "q = lambda theta,dat,sigma: np.sum(norm.cdf((theta - dat)/sigma)) / len(dat)\n",
    "\n",
    "# the objective function J:\n",
    "def objective_func(X, labels, sigma, q, theta):\n",
    "    J = 0\n",
    "    for j in range(c):\n",
    "        pi = np.sum(labels==j+1) / float(len(X))\n",
    "        # different terms\n",
    "        q_1 = q(theta, X[labels==j+1], sigma)\n",
    "        qpr_1 = q(theta, X, sigma)\n",
    "        # adding the corresponding term\n",
    "        J += pi*(q_1*np.log(qpr_1/q_1) + (1-q_1)*np.log((1-qpr_1) / (1-q_1)))\n",
    "    \n",
    "    return J\n",
    "\n",
    "eval_points = np.arange(-3,4.5,.1)\n",
    "Js = np.zeros(len(eval_points))\n",
    "for i in range(len(eval_points)):\n",
    "    theta = eval_points[i]\n",
    "    Js[i] = objective_func(X, labels, sigma, q, theta)"
   ]
  },
  {
   "cell_type": "code",
   "execution_count": 251,
   "metadata": {},
   "outputs": [
    {
     "data": {
      "text/plain": [
       "<matplotlib.lines.Line2D at 0x7f98dabcc750>"
      ]
     },
     "execution_count": 251,
     "metadata": {},
     "output_type": "execute_result"
    },
    {
     "data": {
      "image/png": "[encoded data removed]",
      "text/plain": [
       "<matplotlib.figure.Figure at 0x7f98dad54ed0>"
      ]
     },
     "metadata": {},
     "output_type": "display_data"
    }
   ],
   "source": [
    "plt.scatter(X1, np.zeros(n1), marker='o', s=50)\n",
    "plt.scatter(X2, np.zeros(n2), marker='x', color='r', s=50)\n",
    "plt.plot(eval_points, Js, color='k')\n",
    "\n",
    "plt.axvline(eval_points[np.argmin(Js)], linewidth=2, color='gray', linestyle = '-')"
   ]
  },
  {
   "cell_type": "markdown",
   "metadata": {},
   "source": [
    "Comparing the specified threshold with the empirical one:"
   ]
  },
  {
   "cell_type": "code",
   "execution_count": 250,
   "metadata": {},
   "outputs": [
    {
     "data": {
      "text/plain": [
       "<matplotlib.lines.Line2D at 0x7f98dac838d0>"
      ]
     },
     "execution_count": 250,
     "metadata": {},
     "output_type": "execute_result"
    },
    {
     "data": {
      "image/png": "[encoded data removed]",
      "text/plain": [
       "<matplotlib.figure.Figure at 0x7f98dad48690>"
      ]
     },
     "metadata": {},
     "output_type": "display_data"
    }
   ],
   "source": [
    "plt.scatter(X1, np.zeros(n1), marker='o', s=50)\n",
    "plt.scatter(X2, np.zeros(n2), marker='x', color='r', s=50)\n",
    "\n",
    "eval_points = np.arange(-3,4.5,.1)\n",
    "plt.plot(eval_points, kernel_c1(eval_points))\n",
    "plt.plot(eval_points, kernel_c2(eval_points), color='r')\n",
    "\n",
    "plt.axvline(best_theta, linewidth=2, color='gray', linestyle = '--')\n",
    "plt.axvline(eval_points[np.argmin(Js)], linewidth=2, color='gray', linestyle = '-')"
   ]
  },
  {
   "cell_type": "markdown",
   "metadata": {},
   "source": [
    "# Bisection Method for Finding the Minimizer"
   ]
  },
  {
   "cell_type": "markdown",
   "metadata": {},
   "source": [
    "Above, we exhaustively searched for the minimizer of the impurity measure. Below we try to design a more principled way of locating the minimum of impurity measure using a bisectioning method. For such method, we need to start from an inerval $[a,b]$ which we assume contains a local minimum $\\hat{\\theta}$. In our application, we can set this interval to be the range that the variable on focus (the feature we are trying to threshold) changes. This is because, we always need to make sure that each of the child nodes get at least one sample. If we set $\\theta$ to be too large or too small, then one of the nodes will lose all the samples and that is not desirable."
   ]
  },
  {
   "cell_type": "code",
   "execution_count": 655,
   "metadata": {
    "collapsed": true
   },
   "outputs": [],
   "source": [
    "# define the objective as a stand-alone function which can be evaluated at any given theta\n",
    "J_theta = lambda theta: objective_func(X, labels, sigma, q, theta)\n",
    "\n",
    "# the initial bracket\n",
    "a = X.min()\n",
    "b = X.max()\n",
    "\n",
    "def bisection_min(J_theta, bracket):\n",
    "    \n",
    "    # end-points\n",
    "    a,b = bracket\n",
    "    J_a, J_b = (J_theta(a), J_theta(b))\n",
    "    \n",
    "    # central mid-points\n",
    "    x_m = (a+b) / 2.\n",
    "    J_m = J_theta(x_m)    \n",
    "    \n",
    "    tol = 1e-6\n",
    "    \n",
    "    # repeat bisectioning until the length of the bracket is small enough\n",
    "    while(np.abs(a-b) > tol):\n",
    "\n",
    "        # left and right mid-points\n",
    "        x_l = (a + x_m) / 2.\n",
    "        x_r = (b + x_m) / 2.\n",
    "        J_r, J_l = (J_theta(x_r), J_theta(x_l))\n",
    "        \n",
    "        J_min = np.min([J_a, J_b, J_m, J_r, J_l])\n",
    "        \n",
    "        # updating\n",
    "        if (J_min == J_a) | (J_min == J_l):\n",
    "            b, J_b = (x_m, J_m)            \n",
    "            x_m, J_m = (x_l, J_l)\n",
    "        elif J_min == J_m:\n",
    "            a,b = (x_l, x_r)\n",
    "            J_a, J_b = (J_l, J_r)\n",
    "        elif (J_min == J_b) | (J_min == J_r):\n",
    "            a, J_a = (x_m, J_m)            \n",
    "            x_m, J_m = (x_r, J_r)\n",
    "        \n",
    "    return x_m, J_m"
   ]
  },
  {
   "cell_type": "code",
   "execution_count": 373,
   "metadata": {},
   "outputs": [
    {
     "data": {
      "text/plain": [
       "((0.95758309256991891, -0.27791269658769147), -0.27783387789726777)"
      ]
     },
     "execution_count": 373,
     "metadata": {},
     "output_type": "execute_result"
    }
   ],
   "source": [
    "bisection_min(J_theta, (a,b)), Js.min()"
   ]
  },
  {
   "cell_type": "markdown",
   "metadata": {},
   "source": [
    "# Constructing a General Tree"
   ]
  },
  {
   "cell_type": "markdown",
   "metadata": {},
   "source": [
    "So far we have the necessary tools for selecting the splitting threshold for any given variable. In this section, we try to get a set of multivariate data samples, and starting from the root, at each node of the tree, we go through all the variables and compute the best threshold. After going through all the variables, we select the one with the smallest minimized objective and its correspondin threshold.\n",
    "\n",
    "Before that, we write a general functions for computing the class-conditional and marginal CDFs:"
   ]
  },
  {
   "cell_type": "code",
   "execution_count": 345,
   "metadata": {
    "collapsed": true
   },
   "outputs": [],
   "source": [
    "sigma = .5\n",
    "\n",
    "# assuming that dat is 1-dimensional\n",
    "marginal_CDF = lambda theta,dat,sigma: np.sum(norm.cdf((theta - dat)/sigma)) / len(dat)\n",
    "class_CDF = lambda theta,dat,labels,y,sigma: marginal_CDF(theta, dat[labels==y], sigma)"
   ]
  },
  {
   "cell_type": "code",
   "execution_count": 781,
   "metadata": {
    "scrolled": true
   },
   "outputs": [],
   "source": [
    "reload(fitting_tools)\n",
    "reload(tree_structure)\n",
    "reload(objective_builders)\n",
    "T = tree_structure.Tree(X, labels, objective_builders.normal_CDF)\n",
    "T.fit_full_tree()\n",
    "#T.leaves"
   ]
  },
  {
   "cell_type": "code",
   "execution_count": 786,
   "metadata": {
    "scrolled": true
   },
   "outputs": [
    {
     "data": {
      "image/png": "[encoded data removed]",
      "text/plain": [
       "<matplotlib.figure.Figure at 0x7f65238e3490>"
      ]
     },
     "metadata": {},
     "output_type": "display_data"
    }
   ],
   "source": [
    "plt.scatter(X1, np.zeros(n1), marker='o', color='b', s=50)\n",
    "plt.scatter(X2, np.zeros(n2), marker='x', color='r', s=50)\n",
    "plt.scatter(X3, np.zeros(n2), marker='o', color='b', s=50)\n",
    "TREE = best_T\n",
    "\n",
    "for i in TREE.leaf_inds:\n",
    "    parent = TREE.node_dict[str(i)].parent\n",
    "    plt.axvline(TREE.node_dict[str(parent)].rule['0'], linewidth=2, color='gray', linestyle = '-')"
   ]
  },
  {
   "cell_type": "code",
   "execution_count": 787,
   "metadata": {},
   "outputs": [
    {
     "name": "stdout",
     "output_type": "stream",
     "text": [
      "0 siblings have been removed from the tree.\n"
     ]
    }
   ],
   "source": [
    "seq, alphas = T.cost_complexity_seq()"
   ]
  },
  {
   "cell_type": "code",
   "execution_count": 782,
   "metadata": {
    "scrolled": true
   },
   "outputs": [
    {
     "name": "stdout",
     "output_type": "stream",
     "text": [
      "0 siblings have been removed from the tree.\n",
      "Fitting the full tree for CV 0\n",
      "0 siblings have been removed from the tree.\n",
      "Fitting the full tree for CV 1\n",
      "0 siblings have been removed from the tree.\n",
      "Fitting the full tree for CV 2\n",
      "0 siblings have been removed from the tree.\n",
      "Fitting the full tree for CV 3\n",
      "0 siblings have been removed from the tree.\n",
      "Fitting the full tree for CV 4\n",
      "0 siblings have been removed from the tree.\n",
      "[ 0.22        0.23333333  0.21333333  0.33333333]\n"
     ]
    }
   ],
   "source": [
    "reload(fitting_tools)\n",
    "\n",
    "scores, best_T = fitting_tools.CV_prune(T, 5)\n",
    "print scores"
   ]
  },
  {
   "cell_type": "markdown",
   "metadata": {},
   "source": [
    "## Building the objectives:"
   ]
  },
  {
   "cell_type": "markdown",
   "metadata": {},
   "source": [
    "The ultimate objective $J(\\theta)$ depends only on the marginal and class-conditional CDFs, that is $\\mathbb{P}(x\\leq\\theta)$ and $\\mathbb{P}(x\\leq\\theta|y=j)$ (assuming that $x$ is the particular feature component on focus). When using KDE, these CDFs, in turn, depend on the kernel CDF, defined by\n",
    "$$F_\\Lambda(\\theta;x_i) = \\int_{\\infty}^\\theta k(x,x_i),$$\n",
    "\n",
    "where $x_i$ is a fixed point where the kernel is centered on, and $\\Lambda$ are the kernel's parameters (e.g., the bandwidth). Recall, $p(x)=\\frac{1}{n}\\sum_{i=1}^nk(x,x_i)$ and $p(x|y=j)=\\frac{1}{n_j}\\sum_{y_i=j}k(x,x_i)$. Then,\n",
    "\n",
    "$$p(x\\leq\\theta) = \\int_{-\\infty}^\\theta p(x)dx = \\frac{1}{n}\\sum_{i=1}^n\\int_{-\\infty}^\\theta k(x,x_i)dx = \\frac{1}{n}\\sum_{i=1}^n F_{\\Lambda}(\\theta;x_i).$$\n",
    "\n",
    "Similar equation can be written for the class-conditional case."
   ]
  },
  {
   "cell_type": "markdown",
   "metadata": {},
   "source": [
    "# Testing the Functions"
   ]
  },
  {
   "cell_type": "code",
   "execution_count": 606,
   "metadata": {},
   "outputs": [
    {
     "data": {
      "text/plain": [
       "False"
      ]
     },
     "execution_count": 606,
     "metadata": {},
     "output_type": "execute_result"
    }
   ],
   "source": [
    "sigmas = [.5]\n",
    "Js = KDE_1D_obj_builder(X, labels, sigmas, normal_CDF)\n",
    "\n",
    "T = Tree(X, labels, Js)\n",
    "\n",
    "#T.fit_full_tree()\n",
    "T.check_full_stopped()"
   ]
  },
  {
   "cell_type": "code",
   "execution_count": null,
   "metadata": {},
   "outputs": [],
   "source": []
  },
  {
   "cell_type": "code",
   "execution_count": 707,
   "metadata": {},
   "outputs": [
    {
     "data": {
      "text/plain": [
       "<matplotlib.collections.PathCollection at 0x7f6523d70c50>"
      ]
     },
     "execution_count": 707,
     "metadata": {},
     "output_type": "execute_result"
    },
    {
     "data": {
      "image/png": "[encoded data removed]",
      "text/plain": [
       "<matplotlib.figure.Figure at 0x7f6523f452d0>"
      ]
     },
     "metadata": {},
     "output_type": "display_data"
    }
   ],
   "source": [
    "from matplotlib.backends.backend_pdf import PdfPages\n",
    "import matplotlib.patches as patches\n",
    "\n",
    "fig = plt.figure(figsize=(15,7))\n",
    "ax = fig.add_subplot(111)\n",
    "\n",
    "#dat = total_dat[train_inds[cv_ind]]\n",
    "#tlabels = total_labels[train_inds[cv_ind]]\n",
    "cv_ind = 0\n",
    "train_dat = total_dat[train_inds[cv_ind]]\n",
    "train_labels = total_labels[train_inds[cv_ind]]\n",
    "#cv_T = tree_structure.Tree(train_dat, train_labels, \n",
    "#                              T.kernel_CDF)\n",
    "#cv_T.fit_full_tree()\n",
    "TREE = all_seqs[1+cv_ind][0]\n",
    "\n",
    "\n",
    "# list the thresholds\n",
    "thetas = []\n",
    "for i in TREE.node_dict.keys():\n",
    "    node_obj = TREE.node_dict[i]\n",
    "    if node_obj.rule:\n",
    "        thetas += [node_obj.rule['0']]\n",
    "borders = np.sort(np.concatenate((thetas, np.array([X.min(), X.max()]))))\n",
    "\n",
    "# list the decisions\n",
    "decisions = np.zeros(len(borders)-1)\n",
    "for i in range(len(decisions)):\n",
    "    test_pnt = np.array([(borders[i] + borders[i+1]) / 2.])\n",
    "    _, pred = TREE.posteriors_predict(test_pnt)\n",
    "    decisions[i] = pred[0]\n",
    "    \n",
    "# plot the training data\n",
    "ax.scatter(train_dat[train_labels==1.], np.zeros(np.sum(train_labels==1.)), marker='o', s=50, color='b')\n",
    "ax.scatter(train_dat[train_labels==2.], np.zeros(np.sum(train_labels==2.)), marker='o', s=50, color='r')\n",
    "\n",
    "h = 0.0025\n",
    "for i in range(len(decisions)):\n",
    "    clr = 'b' if decisions[i]==0. else 'r'\n",
    "    ax.add_patch(patches.Rectangle((borders[i], h), borders[i+1] - borders[i], -2*h, \n",
    "                                    alpha=.2, color=clr))\n",
    "\n",
    "# now the test sampels\n",
    "#tedat = total_dat[test_inds[cv_ind]]\n",
    "#telabels = total_labels[test_inds[cv_ind]]\n",
    "test_dat = total_dat[test_inds[cv_ind]]\n",
    "test_labels = total_labels[test_inds[cv_ind]]\n",
    "ax.scatter(test_dat[test_labels==1.], np.zeros(np.sum(test_labels==1.)), marker='x', s=100, color='b')\n",
    "ax.scatter(test_dat[test_labels==2.], np.zeros(np.sum(test_labels==2.)), marker='x', s=100, color='r')\n"
   ]
  },
  {
   "cell_type": "code",
   "execution_count": 709,
   "metadata": {},
   "outputs": [
    {
     "name": "stdout",
     "output_type": "stream",
     "text": [
      "[ 1.  1.  1.  2.  2.  2.  1.  2.]\n"
     ]
    },
    {
     "data": {
      "text/plain": [
       "array([ True,  True,  True,  True,  True,  True,  True,  True], dtype=bool)"
      ]
     },
     "execution_count": 709,
     "metadata": {},
     "output_type": "execute_result"
    }
   ],
   "source": [
    "_, predictions = TREE.posteriors_predict(np.sort(test_dat))\n",
    "print test_labels[np.argsort(test_dat)]\n",
    "predictions == predictions\n",
    "#chosen_sub.posteriors_predict(np.array([.68]))"
   ]
  }
 ],
 "metadata": {
  "kernelspec": {
   "display_name": "Python 2",
   "language": "python",
   "name": "python2"
  },
  "language_info": {
   "codemirror_mode": {
    "name": "ipython",
    "version": 2
   },
   "file_extension": ".py",
   "mimetype": "text/x-python",
   "name": "python",
   "nbconvert_exporter": "python",
   "pygments_lexer": "ipython2",
   "version": "2.7.13"
  }
 },
 "nbformat": 4,
 "nbformat_minor": 2
}
