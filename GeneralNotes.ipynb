{
 "cells": [
  {
   "cell_type": "code",
   "execution_count": 15,
   "metadata": {
    "collapsed": true
   },
   "outputs": [],
   "source": [
    "import numpy as np\n",
    "from scipy.stats import norm\n",
    "import matplotlib.pyplot as plt\n",
    "import pdb\n",
    "import copy\n",
    "\n",
    "%matplotlib inline\n",
    "\n",
    "import tree_structure\n",
    "import fitting_tools\n",
    "import objective_builders"
   ]
  },
  {
   "cell_type": "markdown",
   "metadata": {},
   "source": [
    "# Examining Single-Feature Splitting"
   ]
  },
  {
   "cell_type": "code",
   "execution_count": 10,
   "metadata": {},
   "outputs": [
    {
     "data": {
      "image/png": "[encoded data removed]",
      "text/plain": [
       "<matplotlib.figure.Figure at 0x7fdabf374590>"
      ]
     },
     "metadata": {},
     "output_type": "display_data"
    }
   ],
   "source": [
    "# generate two-gaussian data samples\n",
    "# class one\n",
    "n1 = 20\n",
    "n2 = 20\n",
    "X1 = 1.1*np.random.randn(n1)\n",
    "X2 = np.random.randn(n2) + 2\n",
    "\n",
    "plt.scatter(X1, np.zeros(n1), marker='o', s=50)\n",
    "plt.scatter(X2, np.zeros(n2), marker='x', color='r', s=50)"
   ]
  },
  {
   "cell_type": "markdown",
   "metadata": {},
   "source": [
    "## Splitting with C4.5"
   ]
  },
  {
   "cell_type": "code",
   "execution_count": 260,
   "metadata": {
    "collapsed": true
   },
   "outputs": [],
   "source": [
    "# going through the mid-points one-by-one\n",
    "\n",
    "# number of classes\n",
    "c = len(np.unique(labels))\n",
    "\n",
    "# sorting the data\n",
    "inds = np.argsort(X)\n",
    "scores = np.zeros(n1+n2-1)\n",
    "thetas = np.zeros(n1+n2-1)\n",
    "eps = 1e-6\n",
    "for i in range(n1+n2-1):\n",
    "    thetas[i] = (X[inds[i]] + X[inds[i+1]]) / 2.\n",
    "    prop = np.zeros((2,c))\n",
    "    \n",
    "    # proportions of the classes\n",
    "    for j in range(c):\n",
    "        # left side\n",
    "        prop[0,j] = np.sum(labels[X <= thetas[i]]==j+1) / float(i+1)\n",
    "        # right side\n",
    "        prop[1,j] = np.sum(labels[X > thetas[i]]==j+1) / float(n1+n2-(i+1))\n",
    "        \n",
    "    # entropy\n",
    "    entropies = -np.sum((prop+eps) * np.log(prop+eps), axis=1)\n",
    "    scores[i] = ((i+1)*entropies[0] + (n1+n2-i-1)*entropies[1]) / (n1+n2)"
   ]
  },
  {
   "cell_type": "code",
   "execution_count": 292,
   "metadata": {
    "scrolled": true
   },
   "outputs": [
    {
     "data": {
      "text/plain": [
       "<matplotlib.lines.Line2D at 0x7f98d9ebd990>"
      ]
     },
     "execution_count": 292,
     "metadata": {},
     "output_type": "execute_result"
    },
    {
     "data": {
      "image/png": "[encoded data removed]",
      "text/plain": [
       "<matplotlib.figure.Figure at 0x7f98d9f31a10>"
      ]
     },
     "metadata": {},
     "output_type": "display_data"
    }
   ],
   "source": [
    "# the result:\n",
    "best_theta = thetas[np.argmin(scores)]\n",
    "\n",
    "plt.scatter(X1, np.zeros(n1), marker='o', s=50)\n",
    "plt.scatter(X2, np.zeros(n2), marker='x', color='r', s=50)\n",
    "\n",
    "plt.step(X[inds], np.append(scores[0],scores))\n",
    "plt.axvline(best_theta, linewidth=2, color='gray', linestyle = '--')"
   ]
  },
  {
   "cell_type": "code",
   "execution_count": 290,
   "metadata": {},
   "outputs": [
    {
     "data": {
      "text/plain": [
       "array([ 0.67549768,  0.67549768,  0.65717348,  0.63811766,  0.61826616,\n",
       "        0.59754567,  0.57587167,  0.55314583,  0.52925271,  0.50405522,\n",
       "        0.47738846,  0.449051  ,  0.41879227,  0.3862934 ,  0.351137  ,\n",
       "        0.31275622,  0.40056092,  0.36075175,  0.31562104,  0.37514678,\n",
       "        0.42270915,  0.46280622,  0.41775116,  0.36075175,  0.40056092,\n",
       "        0.43627382,  0.46868149,  0.49832953,  0.52560974,  0.55080938,\n",
       "        0.47738846,  0.50405522,  0.52925271,  0.55314583,  0.57587167,\n",
       "        0.59754567,  0.61826616,  0.63811766,  0.65717348,  0.67549768])"
      ]
     },
     "execution_count": 290,
     "metadata": {},
     "output_type": "execute_result"
    }
   ],
   "source": [
    "np.append(scores[0],scores)"
   ]
  },
  {
   "cell_type": "markdown",
   "metadata": {},
   "source": [
    "## Splitting with Densities"
   ]
  },
  {
   "cell_type": "markdown",
   "metadata": {},
   "source": [
    "First, let's do a density estimation for each class. Here, we do kernel density estimation (KDE):\n",
    "$$p(x|y=j) = \\frac{1}{n_j}\\sum_{y_i=j} k_G(x,x_i)=\\frac{1}{n_j\\sqrt{2\\pi}\\sigma}\\sum_{y_i=j}e^{-(x-x_i)^2/2\\sigma} $$"
   ]
  },
  {
   "cell_type": "code",
   "execution_count": 167,
   "metadata": {
    "collapsed": true
   },
   "outputs": [],
   "source": [
    "sigma = .5\n",
    "\n",
    "# defining KDE function with Gaussian kernel\n",
    "def class_kernel_1D(dat, x, sigma):\n",
    "    density_val = 0\n",
    "    n = dat.shape\n",
    "    for i in range(len(dat)):\n",
    "        density_val += np.exp(-(dat[i]-x)**2/(2*sigma)) / (sigma*np.sqrt(2*np.pi))\n",
    "    return density_val\n",
    "\n",
    "kernel_c1 = lambda x: class_kernel_1D(X[labels==1], x, sigma)\n",
    "kernel_c2 = lambda x: class_kernel_1D(X[labels==2], x, sigma)\n"
   ]
  },
  {
   "cell_type": "code",
   "execution_count": 171,
   "metadata": {},
   "outputs": [
    {
     "data": {
      "text/plain": [
       "<matplotlib.lines.Line2D at 0x7f98e32229d0>"
      ]
     },
     "execution_count": 171,
     "metadata": {},
     "output_type": "execute_result"
    },
    {
     "data": {
      "image/png": "[encoded data removed]",
      "text/plain": [
       "<matplotlib.figure.Figure at 0x7f98e327df90>"
      ]
     },
     "metadata": {},
     "output_type": "display_data"
    }
   ],
   "source": [
    "plt.scatter(X1, np.zeros(n1), marker='o', s=50)\n",
    "plt.scatter(X2, np.zeros(n2), marker='x', color='r', s=50)\n",
    "\n",
    "eval_points = np.arange(-3,4.5,.1)\n",
    "plt.plot(eval_points, kernel_c1(eval_points))\n",
    "plt.plot(eval_points, kernel_c2(eval_points), color='r')\n",
    "\n",
    "plt.axvline(best_theta, linewidth=2, color='gray', linestyle = '--')"
   ]
  },
  {
   "cell_type": "markdown",
   "metadata": {},
   "source": [
    "Now, let's form the density-based objective:\n",
    "$$ -\\sum_{j=1}^2 \\mathbb{P}(y=j|x\\leq \\theta) \\log\\mathbb{P}(y=j|x\\leq \\theta)$$\n",
    "\n",
    "where from Bayes rule\n",
    "$$ \\mathbb{P}(y=j|x\\leq \\theta) = \\frac{\\mathbb{P}(x\\leq\\theta|y=j)\\cdot\\mathbb{P}(y=j)}{\\mathbb{P}(x\\leq\\theta)}.$$\n",
    "\n",
    "After some simplifications, we get the following objective:\n",
    "$$ J(\\theta) = -\\mathbb{E}_y[KL(q(\\theta, y), q'(\\theta)],$$\n",
    "where \"KL\" is the KL-divergence measure, $q_1$ and $q_2$ are two two-element PMFs whose mass probabilities depend on $\\theta$:\n",
    "$$q(\\theta,y) = [\\mathbb{P}(x\\leq\\theta|y), \\mathbb{P}(x>\\theta|y)]$$\n",
    "$$q'(\\theta) = [\\mathbb{P}(x\\leq\\theta), \\mathbb{P}(x>\\theta)]$$\n",
    "\n",
    "The objective $J(\\theta)$ can also be written as\n",
    "$$ J(\\theta) = \\sum_{y=1}^c\\pi_j\\left[q_1(\\theta,j)\\log\\frac{q'_1(\\theta)}{q_1(\\theta,j)} + q_2(\\theta,j)\\log\\frac{q'_2(\\theta)}{q_2(\\theta,j)} \\right]$$\n",
    "where, assuming that we are using Gaussian kernels, we get the following for the CDFs:\n",
    "$$\\pi_j = \\frac{n_j}{n},$$\n",
    "$$ q_1(\\theta,y=j) = \\mathbb{P}(x\\leq\\theta|y=j)=\\int_{-\\infty}^\\theta p(x|y=j)dx = \\frac{1}{n_j}\\sum_{y_i=j}\\Phi\\left(\\frac{\\theta-x_i}{\\sigma}\\right).$$\n",
    "and\n",
    "$$ q'_1(\\theta) = \\mathbb{P}(x\\leq\\theta)=\\int_{-\\infty}^\\theta p(x)dx = \\frac{1}{n}\\sum_{i=1}^n\\Phi\\left(\\frac{\\theta-x_i}{\\sigma}\\right).$$"
   ]
  },
  {
   "cell_type": "code",
   "execution_count": 247,
   "metadata": {
    "collapsed": true
   },
   "outputs": [],
   "source": [
    "# first computing all the variables present in the equations above\n",
    "\n",
    "# we can generate q_1 and q'_1 values using the following function\n",
    "q = lambda theta,dat,sigma: np.sum(norm.cdf((theta - dat)/sigma)) / len(dat)\n",
    "\n",
    "# the objective function J:\n",
    "def objective_func(X, labels, sigma, q, theta):\n",
    "    J = 0\n",
    "    for j in range(c):\n",
    "        pi = np.sum(labels==j+1) / float(len(X))\n",
    "        # different terms\n",
    "        q_1 = q(theta, X[labels==j+1], sigma)\n",
    "        qpr_1 = q(theta, X, sigma)\n",
    "        # adding the corresponding term\n",
    "        J += pi*(q_1*np.log(qpr_1/q_1) + (1-q_1)*np.log((1-qpr_1) / (1-q_1)))\n",
    "    \n",
    "    return J\n",
    "\n",
    "eval_points = np.arange(-3,4.5,.1)\n",
    "Js = np.zeros(len(eval_points))\n",
    "for i in range(len(eval_points)):\n",
    "    theta = eval_points[i]\n",
    "    Js[i] = objective_func(X, labels, sigma, q, theta)"
   ]
  },
  {
   "cell_type": "code",
   "execution_count": 251,
   "metadata": {},
   "outputs": [
    {
     "data": {
      "text/plain": [
       "<matplotlib.lines.Line2D at 0x7f98dabcc750>"
      ]
     },
     "execution_count": 251,
     "metadata": {},
     "output_type": "execute_result"
    },
    {
     "data": {
      "image/png": "[encoded data removed]",
      "text/plain": [
       "<matplotlib.figure.Figure at 0x7f98dad54ed0>"
      ]
     },
     "metadata": {},
     "output_type": "display_data"
    }
   ],
   "source": [
    "plt.scatter(X1, np.zeros(n1), marker='o', s=50)\n",
    "plt.scatter(X2, np.zeros(n2), marker='x', color='r', s=50)\n",
    "plt.plot(eval_points, Js, color='k')\n",
    "\n",
    "plt.axvline(eval_points[np.argmin(Js)], linewidth=2, color='gray', linestyle = '-')"
   ]
  },
  {
   "cell_type": "markdown",
   "metadata": {},
   "source": [
    "Comparing the specified threshold with the empirical one:"
   ]
  },
  {
   "cell_type": "code",
   "execution_count": 250,
   "metadata": {},
   "outputs": [
    {
     "data": {
      "text/plain": [
       "<matplotlib.lines.Line2D at 0x7f98dac838d0>"
      ]
     },
     "execution_count": 250,
     "metadata": {},
     "output_type": "execute_result"
    },
    {
     "data": {
      "image/png": "[encoded data removed]",
      "text/plain": [
       "<matplotlib.figure.Figure at 0x7f98dad48690>"
      ]
     },
     "metadata": {},
     "output_type": "display_data"
    }
   ],
   "source": [
    "plt.scatter(X1, np.zeros(n1), marker='o', s=50)\n",
    "plt.scatter(X2, np.zeros(n2), marker='x', color='r', s=50)\n",
    "\n",
    "eval_points = np.arange(-3,4.5,.1)\n",
    "plt.plot(eval_points, kernel_c1(eval_points))\n",
    "plt.plot(eval_points, kernel_c2(eval_points), color='r')\n",
    "\n",
    "plt.axvline(best_theta, linewidth=2, color='gray', linestyle = '--')\n",
    "plt.axvline(eval_points[np.argmin(Js)], linewidth=2, color='gray', linestyle = '-')"
   ]
  },
  {
   "cell_type": "markdown",
   "metadata": {},
   "source": [
    "# Bisection Method for Finding the Minimizer"
   ]
  },
  {
   "cell_type": "markdown",
   "metadata": {},
   "source": [
    "Above, we exhaustively searched for the minimizer of the impurity measure. Below we try to design a more principled way of locating the minimum of impurity measure using a bisectioning method. For such method, we need to start from an inerval $[a,b]$ which we assume contains a local minimum $\\hat{\\theta}$. In our application, we can set this interval to be the range that the variable on focus (the feature we are trying to threshold) changes. This is because, we always need to make sure that each of the child nodes get at least one sample. If we set $\\theta$ to be too large or too small, then one of the nodes will lose all the samples and that is not desirable."
   ]
  },
  {
   "cell_type": "code",
   "execution_count": 655,
   "metadata": {
    "collapsed": true
   },
   "outputs": [],
   "source": [
    "# define the objective as a stand-alone function which can be evaluated at any given theta\n",
    "J_theta = lambda theta: objective_func(X, labels, sigma, q, theta)\n",
    "\n",
    "# the initial bracket\n",
    "a = X.min()\n",
    "b = X.max()\n",
    "\n",
    "def bisection_min(J_theta, bracket):\n",
    "    \n",
    "    # end-points\n",
    "    a,b = bracket\n",
    "    J_a, J_b = (J_theta(a), J_theta(b))\n",
    "    \n",
    "    # central mid-points\n",
    "    x_m = (a+b) / 2.\n",
    "    J_m = J_theta(x_m)    \n",
    "    \n",
    "    tol = 1e-6\n",
    "    \n",
    "    # repeat bisectioning until the length of the bracket is small enough\n",
    "    while(np.abs(a-b) > tol):\n",
    "\n",
    "        # left and right mid-points\n",
    "        x_l = (a + x_m) / 2.\n",
    "        x_r = (b + x_m) / 2.\n",
    "        J_r, J_l = (J_theta(x_r), J_theta(x_l))\n",
    "        \n",
    "        J_min = np.min([J_a, J_b, J_m, J_r, J_l])\n",
    "        \n",
    "        # updating\n",
    "        if (J_min == J_a) | (J_min == J_l):\n",
    "            b, J_b = (x_m, J_m)            \n",
    "            x_m, J_m = (x_l, J_l)\n",
    "        elif J_min == J_m:\n",
    "            a,b = (x_l, x_r)\n",
    "            J_a, J_b = (J_l, J_r)\n",
    "        elif (J_min == J_b) | (J_min == J_r):\n",
    "            a, J_a = (x_m, J_m)            \n",
    "            x_m, J_m = (x_r, J_r)\n",
    "        \n",
    "    return x_m, J_m"
   ]
  },
  {
   "cell_type": "code",
   "execution_count": 373,
   "metadata": {},
   "outputs": [
    {
     "data": {
      "text/plain": [
       "((0.95758309256991891, -0.27791269658769147), -0.27783387789726777)"
      ]
     },
     "execution_count": 373,
     "metadata": {},
     "output_type": "execute_result"
    }
   ],
   "source": [
    "bisection_min(J_theta, (a,b)), Js.min()"
   ]
  },
  {
   "cell_type": "markdown",
   "metadata": {},
   "source": [
    "# Constructing a General Tree"
   ]
  },
  {
   "cell_type": "markdown",
   "metadata": {},
   "source": [
    "So far we have the necessary tools for selecting the splitting threshold for any given variable. In this section, we try to get a set of multivariate data samples, and starting from the root, at each node of the tree, we go through all the variables and compute the best threshold. After going through all the variables, we select the one with the smallest minimized objective and its correspondin threshold.\n",
    "\n",
    "Before that, we write a general functions for computing the class-conditional and marginal CDFs:"
   ]
  },
  {
   "cell_type": "code",
   "execution_count": 345,
   "metadata": {
    "collapsed": true
   },
   "outputs": [],
   "source": [
    "sigma = .5\n",
    "\n",
    "# assuming that dat is 1-dimensional\n",
    "marginal_CDF = lambda theta,dat,sigma: np.sum(norm.cdf((theta - dat)/sigma)) / len(dat)\n",
    "class_CDF = lambda theta,dat,labels,y,sigma: marginal_CDF(theta, dat[labels==y], sigma)"
   ]
  },
  {
   "cell_type": "markdown",
   "metadata": {},
   "source": [
    "## Class of Node and Trees:"
   ]
  },
  {
   "cell_type": "code",
   "execution_count": 593,
   "metadata": {
    "collapsed": true
   },
   "outputs": [],
   "source": []
  },
  {
   "cell_type": "code",
   "execution_count": 733,
   "metadata": {
    "collapsed": true
   },
   "outputs": [],
   "source": []
  },
  {
   "cell_type": "code",
   "execution_count": 24,
   "metadata": {
    "scrolled": true
   },
   "outputs": [],
   "source": [
    "reload(fitting_tools)\n",
    "reload(tree_structure)\n",
    "reload(objective_builders)\n",
    "T = tree_structure.Tree(X, labels)\n",
    "T.fit_full_tree()\n",
    "#T.leaves"
   ]
  },
  {
   "cell_type": "code",
   "execution_count": 25,
   "metadata": {},
   "outputs": [
    {
     "data": {
      "image/png": "[encoded data removed]",
      "text/plain": [
       "<matplotlib.figure.Figure at 0x7fdabf2ce7d0>"
      ]
     },
     "metadata": {},
     "output_type": "display_data"
    }
   ],
   "source": [
    "from matplotlib.backends.backend_pdf import PdfPages\n",
    "\n",
    "fig = plt.figure(figsize=(15,5))\n",
    "\n",
    "plt.scatter(X1, np.zeros(n1), marker='o', s=50)\n",
    "plt.scatter(X2, np.zeros(n2), marker='x', color='r', s=50)\n",
    "\n",
    "eval_points = np.arange(-3,4.5,.1)\n",
    "#plt.plot(eval_points, kernel_c1(eval_points))\n",
    "#plt.plot(eval_points, kernel_c2(eval_points), color='r')\n",
    "\n",
    "plt.axvline(T.leaves[0].rules['0'][0], linewidth=2, color='gray', linestyle = '-')\n",
    "plt.axvline(T.leaves[-1].rules['0'][1], linewidth=2, color='gray', linestyle = '-')\n",
    "with PdfPages('foo.pdf') as pdf:\n",
    "    for i in range(len(T.leaves)):\n",
    "        plt.axvline(T.leaves[i].rules['0'][1], linewidth=2, color='gray', linestyle = '-')\n",
    "        #pdf.savefig(str(i)+\".pdf\", bbox_inches='tight');\n",
    "        pdf.savefig(fig)\n",
    "    "
   ]
  },
  {
   "cell_type": "code",
   "execution_count": 732,
   "metadata": {},
   "outputs": [
    {
     "data": {
      "text/plain": [
       "{'0': (2.6165260720903385, 2.6741213165238973)}"
      ]
     },
     "execution_count": 732,
     "metadata": {},
     "output_type": "execute_result"
    }
   ],
   "source": [
    "T.leaves[-1].rules"
   ]
  },
  {
   "cell_type": "code",
   "execution_count": 714,
   "metadata": {
    "collapsed": true
   },
   "outputs": [],
   "source": [
    "def split_features(leaf):\n",
    "    \"\"\"\n",
    "    Computing the best splits of each feature by minimizing the \n",
    "    given objectives within the node rule's limits. \n",
    "    \n",
    "    The output would be the best split of each feature and the resulting\n",
    "    optimization value (scores for the split)\n",
    "    \"\"\"\n",
    "    \n",
    "    # dimensionality of data\n",
    "    d = 1 if leaf.dat.ndim==1 else leaf.dat.shape[0]\n",
    "    \n",
    "    scores = np.zeros(d)\n",
    "    thetas = np.zeros(d)\n",
    "    \n",
    "    # objective builder\n",
    "    objectives = KDE_1D_obj_builder(leaf.dat, leaf.labels, normal_CDF)\n",
    "    \n",
    "    # do the 1D optimization (inside the intervals permitted by the rules)\n",
    "    for i in range(d):\n",
    "        X = leaf.dat[i,:] if d>1 else leaf.dat\n",
    "        bracket = (max(leaf.rules[str(i)][0], X.min()),\n",
    "                   min(leaf.rules[str(i)][1], X.max()))\n",
    "        thetas[i], scores[i] = bisection_min(objectives[i], bracket)\n",
    "        \n",
    "    return thetas, scores\n",
    "\n",
    "def update_rules(new_split, selected_feature, leaf):\n",
    "    \"\"\"\n",
    "    Updating the set of rules of a given leaf node to create\n",
    "    its left and right children. \n",
    "    \n",
    "    The left child rule will take in the left side of the split, \n",
    "    and the right child will take the right side.\n",
    "    \n",
    "    NOTE: in case of the right interval (x: theta< x <=b), however, our filter_data\n",
    "    function always considers '<=' for all types of intervals (which is valid for\n",
    "    intervals in for the form [a=X.min(), b=X.max()]. But, when a new split theta\n",
    "    is inroduced we have to consider (a=theta, b=X.max()]. In order to avoid writing\n",
    "    a new function, we add a very small number to theta, thus [a=theta+epsilon, b=X.max()], \n",
    "    which is an approximation for (a=theta, b] for small epsilon values.\n",
    "    \"\"\"\n",
    "    \n",
    "    eps = 1e-8\n",
    "    \n",
    "    # create two copies of the leaf's rules\n",
    "    left_rules = leaf.rules.copy()\n",
    "    right_rules = leaf.rules.copy()\n",
    "    \n",
    "    # here are the end-points\n",
    "    (a,b) = leaf.rules[str(selected_feature)]\n",
    "    \n",
    "    # rules for left and right children\n",
    "    if a<new_split<b:\n",
    "        left_rules[str(selected_feature)] = (a, new_split)\n",
    "        right_rules[str(selected_feature)] = (new_split+eps, b)\n",
    "    else:\n",
    "        raise ValueError('Value of the new split cannot be outside or on the' +\n",
    "                         'end-points of the current rules.')\n",
    "        \n",
    "    return left_rules, right_rules\n",
    "\n",
    "def filter_data(dat, labels, rules, selected_feature=None):\n",
    "    \"\"\"\n",
    "    Filering the data according to a given set of rules\n",
    "    \"\"\"\n",
    "    if dat.ndim==1:\n",
    "        (a,b) = rules['0']\n",
    "        inds_to_del = np.where(np.logical_or(dat<a, b<dat))\n",
    "        # filtering data and labels\n",
    "        dat = np.delete(dat, inds_to_del)\n",
    "        labels = np.delete(labels, inds_to_del)\n",
    "        \n",
    "    elif dat.ndim==2:\n",
    "        # if a feature is given, then only use that for filtering\n",
    "        if selected_feature:\n",
    "            (a,b) = rules[str(selected_feature)]\n",
    "            X = dat[selected_feature,:]\n",
    "            inds_to_del = np.where(np.logical_or(X<a, b<X))\n",
    "            # filtering data and labels\n",
    "            dat = np.delete(dat, inds_to_del, 1)\n",
    "            labels = np.delete(labels, inds_to_del)\n",
    "        # if not, look at all the feature one-by-one\n",
    "        else:\n",
    "            for i in range(dat.shape[0]):\n",
    "                (a,b) = rules[str(i)]\n",
    "                X = dat[i,:]\n",
    "                inds_to_del = np.where(np.logical_or(X<a, b<X))\n",
    "                # filtering data and labels\n",
    "                dat = np.delete(dat, inds_to_del, 1)\n",
    "                labels = np.delete(labels, inds_to_del)\n",
    "    \n",
    "    return dat, labels"
   ]
  },
  {
   "cell_type": "markdown",
   "metadata": {},
   "source": [
    "## Building the objectives:"
   ]
  },
  {
   "cell_type": "markdown",
   "metadata": {},
   "source": [
    "The ultimate objective $J(\\theta)$ depends only on the marginal and class-conditional CDFs, that is $\\mathbb{P}(x\\leq\\theta)$ and $\\mathbb{P}(x\\leq\\theta|y=j)$ (assuming that $x$ is the particular feature component on focus). When using KDE, these CDFs, in turn, depend on the kernel CDF, defined by\n",
    "$$F_\\Lambda(\\theta;x_i) = \\int_{\\infty}^\\theta k(x,x_i),$$\n",
    "\n",
    "where $x_i$ is a fixed point where the kernel is centered on, and $\\Lambda$ are the kernel's parameters (e.g., the bandwidth). Recall, $p(x)=\\frac{1}{n}\\sum_{i=1}^nk(x,x_i)$ and $p(x|y=j)=\\frac{1}{n_j}\\sum_{y_i=j}k(x,x_i)$. Then,\n",
    "\n",
    "$$p(x\\leq\\theta) = \\int_{-\\infty}^\\theta p(x)dx = \\frac{1}{n}\\sum_{i=1}^n\\int_{-\\infty}^\\theta k(x,x_i)dx = \\frac{1}{n}\\sum_{i=1}^n F_{\\Lambda}(\\theta;x_i).$$\n",
    "\n",
    "Similar equation can be written for the class-conditional case."
   ]
  },
  {
   "cell_type": "code",
   "execution_count": 716,
   "metadata": {
    "collapsed": true
   },
   "outputs": [],
   "source": [
    "def KDE_1D_obj_builder(dat, labels, kernel_CDF, class_priors=None):\n",
    "    \"\"\"\n",
    "    Constructing the objective function evaluator for an isotropic KDE. \n",
    "    \n",
    "    We need training data samples as well as kernel CDF for computing the objective\n",
    "    function. The, kernel CDF is a single callable function with a set of parameters. Each dimension\n",
    "    (feature component) possibly has a different set of parameters. The argument |sigma| is a list of\n",
    "    parameter sets corresponding to all the dimensions (hence, its length should be equal to the\n",
    "    number of features in |dat|). Each time, |kernel_CDF| has to be called using a particular set of\n",
    "    parameters, and a specific data point.\n",
    "    \n",
    "    CAUTIOUN 1: |kernel_CDF| should have three arguments only; \n",
    "        \n",
    "        * the first one is the set of parameters:math:`\\\\Lambda`, \n",
    "        * the second one is the sample point on which the kernel is centered, :math:`x_i`, \n",
    "        * the last is the value at which the CDF is to be evaluated :math`\\\\theta`. \n",
    "    \n",
    "    CAUTIOUN 2: |kernel_CDF| should be able to evaluate CDF of the kernel at several data samples in \n",
    "    a single call.\n",
    "    \"\"\"\n",
    "    \n",
    "     \n",
    "    if dat.ndim==1:\n",
    "        d = 1\n",
    "        n = len(dat)\n",
    "    else:\n",
    "        d, n = dat.shape\n",
    "    \n",
    "    # first of all, we need the priors:\n",
    "    if not(class_priors):\n",
    "        symbols = np.unique(labels)\n",
    "        c = len(symbols)\n",
    "        class_priors = np.zeros(c)\n",
    "        for i in range(c):\n",
    "            class_priors[i] = np.sum(labels==symbols[i]) / float(n)\n",
    "   \n",
    "    pies = class_priors\n",
    "    \n",
    "    # list of objectives for each dimension\n",
    "    objectives = [0]*d     # (list initialization)\n",
    "    \n",
    "    for i in range(d):\n",
    "        \n",
    "        X = dat[i,:] if d>1 else dat\n",
    "        uncond_sigma = .5\n",
    "        cond_sigma = .5\n",
    "        \n",
    "        # constructing CDF of the non-conditional KDE\n",
    "        marginal_CDF = lambda theta: kernel_CDF(sigma, X, theta)\n",
    "        \n",
    "        # constructing CDF of class-conditional KDE\n",
    "        class_marginals = [0]*c   # (list initialization)\n",
    "        for j in range(c):\n",
    "            class_marginals[j] = lambda theta: kernel_CDF(cond_sigma, X[labels==symbols[j]], theta)\n",
    "            \n",
    "        # constructing the overall objective of this i-th feature:\n",
    "        J_i = lambda theta: np.sum(pies*np.array([f(theta)*np.log(marginal_CDF(theta)/f(theta)) + \n",
    "                                                  (1-f(theta))*np.log((1-marginal_CDF(theta))/(1-f(theta))) \n",
    "                                                  for f in class_marginals]))\n",
    "        objectives[i] = J_i\n",
    "        \n",
    "    return objectives\n",
    "\n",
    "def normal_CDF(sigma, dat, theta):\n",
    "    \"\"\"\n",
    "    CDF of a scalar KDE based on Gaussian kernels. \n",
    "    \n",
    "    |sigma| is a positive scalar denoting the variance of the Gaussian kernel.\n",
    "    \"\"\"\n",
    "    return np.sum(norm.cdf((theta - dat)/sigma)) / len(dat)\n",
    "    "
   ]
  },
  {
   "cell_type": "markdown",
   "metadata": {},
   "source": [
    "# Testing the Functions"
   ]
  },
  {
   "cell_type": "code",
   "execution_count": 606,
   "metadata": {},
   "outputs": [
    {
     "data": {
      "text/plain": [
       "False"
      ]
     },
     "execution_count": 606,
     "metadata": {},
     "output_type": "execute_result"
    }
   ],
   "source": [
    "sigmas = [.5]\n",
    "Js = KDE_1D_obj_builder(X, labels, sigmas, normal_CDF)\n",
    "\n",
    "T = Tree(X, labels, Js)\n",
    "\n",
    "#T.fit_full_tree()\n",
    "T.check_full_stopped()"
   ]
  }
 ],
 "metadata": {
  "kernelspec": {
   "display_name": "Python 2",
   "language": "python",
   "name": "python2"
  },
  "language_info": {
   "codemirror_mode": {
    "name": "ipython",
    "version": 2
   },
   "file_extension": ".py",
   "mimetype": "text/x-python",
   "name": "python",
   "nbconvert_exporter": "python",
   "pygments_lexer": "ipython2",
   "version": "2.7.13"
  }
 },
 "nbformat": 4,
 "nbformat_minor": 2
}
